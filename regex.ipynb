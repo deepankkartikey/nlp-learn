{
 "cells": [
  {
   "cell_type": "code",
   "execution_count": 47,
   "id": "ea96cc37",
   "metadata": {},
   "outputs": [],
   "source": [
    "import re"
   ]
  },
  {
   "cell_type": "code",
   "execution_count": 48,
   "id": "203318c3",
   "metadata": {},
   "outputs": [],
   "source": [
    "chat1='codebasics: Hello, I am having an issue with my order # 412889912'"
   ]
  },
  {
   "cell_type": "code",
   "execution_count": 49,
   "id": "3e972dc0",
   "metadata": {},
   "outputs": [],
   "source": [
    "regex = \"order[^\\d]*(\\d*)\" # gets the order number only"
   ]
  },
  {
   "cell_type": "code",
   "execution_count": 50,
   "id": "d41bf499",
   "metadata": {},
   "outputs": [],
   "source": [
    "matches = re.findall(regex, chat1)"
   ]
  },
  {
   "cell_type": "code",
   "execution_count": 51,
   "id": "70f402b1",
   "metadata": {},
   "outputs": [
    {
     "data": {
      "text/plain": [
       "['412889912']"
      ]
     },
     "execution_count": 51,
     "metadata": {},
     "output_type": "execute_result"
    }
   ],
   "source": [
    "matches"
   ]
  },
  {
   "cell_type": "markdown",
   "id": "27fc060b",
   "metadata": {},
   "source": [
    "# Retrieve Email Id and Phone"
   ]
  },
  {
   "cell_type": "code",
   "execution_count": 60,
   "id": "63ed963d",
   "metadata": {},
   "outputs": [],
   "source": [
    "chat1 = 'codebasics: you ask lot of questions 😠  1235678912, abc@xyz.com'\n",
    "chat2 = 'codebasics: here it is: (123)-567-8912, abc@xyz.com'\n",
    "chat3 = 'codebasics: yes, phone: 1235678912 email: abc@xyz.com'"
   ]
  },
  {
   "cell_type": "code",
   "execution_count": 61,
   "id": "8b6d8dac",
   "metadata": {},
   "outputs": [],
   "source": [
    "phoneRegex = \"\\d{10}|\\(\\d{3}\\)-\\d{3}-\\d{4}\"\n",
    "emailRegex = \"[a-zA-Z0-9_]*@[a-zA-Z]*\\.com\""
   ]
  },
  {
   "cell_type": "code",
   "execution_count": 62,
   "id": "d43fb240",
   "metadata": {},
   "outputs": [],
   "source": [
    "phoneMatches = []\n",
    "phoneMatches.append(re.findall(phoneRegex, chat1))\n",
    "phoneMatches.append(re.findall(phoneRegex, chat2))\n",
    "phoneMatches.append(re.findall(phoneRegex, chat3))"
   ]
  },
  {
   "cell_type": "code",
   "execution_count": 63,
   "id": "22fdd854",
   "metadata": {},
   "outputs": [],
   "source": [
    "emailMatches = []\n",
    "emailMatches.append(re.findall(emailRegex, chat1))\n",
    "emailMatches.append(re.findall(emailRegex, chat2))\n",
    "emailMatches.append(re.findall(emailRegex, chat3))"
   ]
  },
  {
   "cell_type": "code",
   "execution_count": 64,
   "id": "e9d4edf9",
   "metadata": {},
   "outputs": [
    {
     "data": {
      "text/plain": [
       "[['1235678912'], ['(123)-567-8912'], ['1235678912']]"
      ]
     },
     "execution_count": 64,
     "metadata": {},
     "output_type": "execute_result"
    }
   ],
   "source": [
    "phoneMatches"
   ]
  },
  {
   "cell_type": "code",
   "execution_count": 65,
   "id": "dcc487fd",
   "metadata": {},
   "outputs": [
    {
     "data": {
      "text/plain": [
       "[['abc@xyz.com'], ['abc@xyz.com'], ['abc@xyz.com']]"
      ]
     },
     "execution_count": 65,
     "metadata": {},
     "output_type": "execute_result"
    }
   ],
   "source": [
    "emailMatches"
   ]
  },
  {
   "cell_type": "markdown",
   "id": "191d96ac",
   "metadata": {},
   "source": [
    "# Information Extraction"
   ]
  },
  {
   "cell_type": "code",
   "execution_count": 74,
   "id": "8f8b53ed",
   "metadata": {},
   "outputs": [],
   "source": [
    "text='''\n",
    "Born Elon Reeve Musk\n",
    "June 28, 1971 (age 50)\n",
    "Pretoria, Transvaal, South Africa\n",
    "Citizenship\t\n",
    "South Africa (1971–present)\n",
    "Canada (1971–present)\n",
    "United States (2002–present)\n",
    "Education\tUniversity of Pennsylvania (BS, BA)\n",
    "Title\t\n",
    "Founder, CEO and Chief Engineer of SpaceX\n",
    "CEO and product architect of Tesla, Inc.\n",
    "Founder of The Boring Company and X.com (now part of PayPal)\n",
    "Co-founder of Neuralink, OpenAI, and Zip2\n",
    "Spouse(s)\t\n",
    "Justine Wilson\n",
    "​\n",
    "​(m. 2000; div. 2008)​\n",
    "Talulah Riley\n",
    "​\n",
    "​(m. 2010; div. 2012)​\n",
    "​\n",
    "​(m. 2013; div. 2016)\n",
    "'''"
   ]
  },
  {
   "cell_type": "code",
   "execution_count": 75,
   "id": "62a0822c",
   "metadata": {},
   "outputs": [
    {
     "data": {
      "text/plain": [
       "['50']"
      ]
     },
     "execution_count": 75,
     "metadata": {},
     "output_type": "execute_result"
    }
   ],
   "source": [
    "ageReg = \"age (\\d+)\"\n",
    "re.findall(ageReg, text)"
   ]
  },
  {
   "cell_type": "code",
   "execution_count": 76,
   "id": "71b7acac",
   "metadata": {},
   "outputs": [
    {
     "data": {
      "text/plain": [
       "['Elon Reeve Musk']"
      ]
     },
     "execution_count": 76,
     "metadata": {},
     "output_type": "execute_result"
    }
   ],
   "source": [
    "fullNameReg = \"Born (.*)\"\n",
    "re.findall(fullNameReg, text)"
   ]
  },
  {
   "cell_type": "code",
   "execution_count": 79,
   "id": "0d9eb006",
   "metadata": {},
   "outputs": [
    {
     "data": {
      "text/plain": [
       "'June 28, 1971'"
      ]
     },
     "execution_count": 79,
     "metadata": {},
     "output_type": "execute_result"
    }
   ],
   "source": [
    "dobReg = \"Born.*\\n(.*)\\(age\"\n",
    "re.findall(dobReg, text)[0].strip()"
   ]
  },
  {
   "cell_type": "code",
   "execution_count": 80,
   "id": "78d1b912",
   "metadata": {},
   "outputs": [
    {
     "data": {
      "text/plain": [
       "['Pretoria, Transvaal, South Africa']"
      ]
     },
     "execution_count": 80,
     "metadata": {},
     "output_type": "execute_result"
    }
   ],
   "source": [
    "birthPlace = \"age.*\\n(.*)\"\n",
    "re.findall(birthPlace, text)"
   ]
  },
  {
   "cell_type": "code",
   "execution_count": null,
   "id": "bef71cff",
   "metadata": {},
   "outputs": [],
   "source": []
  }
 ],
 "metadata": {
  "kernelspec": {
   "display_name": "nlp",
   "language": "python",
   "name": "nlp"
  },
  "language_info": {
   "codemirror_mode": {
    "name": "ipython",
    "version": 3
   },
   "file_extension": ".py",
   "mimetype": "text/x-python",
   "name": "python",
   "nbconvert_exporter": "python",
   "pygments_lexer": "ipython3",
   "version": "3.10.4"
  }
 },
 "nbformat": 4,
 "nbformat_minor": 5
}
