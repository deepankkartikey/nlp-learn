{
 "cells": [
  {
   "cell_type": "code",
   "execution_count": null,
   "id": "32ba60c9",
   "metadata": {},
   "outputs": [],
   "source": [
    "pip install spacy nltk"
   ]
  },
  {
   "cell_type": "code",
   "execution_count": 60,
   "id": "cf277506",
   "metadata": {},
   "outputs": [],
   "source": [
    "import spacy\n",
    "import nltk"
   ]
  },
  {
   "cell_type": "markdown",
   "id": "3c69ffb6",
   "metadata": {},
   "source": [
    "### stemming only available in nltk"
   ]
  },
  {
   "cell_type": "code",
   "execution_count": 61,
   "id": "32f71cdd",
   "metadata": {},
   "outputs": [
    {
     "name": "stdout",
     "output_type": "stream",
     "text": [
      "eating  -->  eat\n",
      "eats  -->  eat\n",
      "eat  -->  eat\n",
      "ate  -->  ate\n",
      "adjustable  -->  adjust\n",
      "rafting  -->  raft\n",
      "ability  -->  abil\n",
      "meeting  -->  meet\n"
     ]
    }
   ],
   "source": [
    "from nltk.stem import PorterStemmer\n",
    "\n",
    "stemmer = PorterStemmer()\n",
    "words = [\"eating\", \"eats\", \"eat\", \"ate\", \"adjustable\", \"rafting\", \"ability\", \"meeting\"]\n",
    "\n",
    "for word in words:\n",
    "    print(word, \" --> \", stemmer.stem(word))"
   ]
  },
  {
   "cell_type": "markdown",
   "id": "527f498c",
   "metadata": {},
   "source": [
    "### Lematization available in both spacy and nltk"
   ]
  },
  {
   "cell_type": "code",
   "execution_count": 62,
   "id": "6c8973f1",
   "metadata": {},
   "outputs": [
    {
     "data": {
      "text/plain": [
       "'python -m spacy download en_core_web_sm'"
      ]
     },
     "execution_count": 62,
     "metadata": {},
     "output_type": "execute_result"
    }
   ],
   "source": [
    "##### Download model by running following command in Terminal\n",
    "\"\"\"python -m spacy download en_core_web_sm\"\"\""
   ]
  },
  {
   "cell_type": "code",
   "execution_count": null,
   "id": "d93fe726",
   "metadata": {},
   "outputs": [],
   "source": [
    "from spacy.cli import download\n",
    "\n",
    "# downloading model at runtime\n",
    "download(\"en_core_web_sm\")"
   ]
  },
  {
   "cell_type": "code",
   "execution_count": 64,
   "id": "f16c682e",
   "metadata": {},
   "outputs": [],
   "source": [
    "# Load English tokenizer, tagger, parser and NER\n",
    "nlp = spacy.load('en_core_web_sm')"
   ]
  },
  {
   "cell_type": "code",
   "execution_count": 65,
   "id": "78aae0d5",
   "metadata": {},
   "outputs": [
    {
     "data": {
      "text/plain": [
       "eating eats eat ate adjustable rafting ability meeting"
      ]
     },
     "execution_count": 65,
     "metadata": {},
     "output_type": "execute_result"
    }
   ],
   "source": [
    "text = \" \".join(words)\n",
    "    \n",
    "# create document using nlp pipeline\n",
    "doc = nlp(text)\n",
    "doc"
   ]
  },
  {
   "cell_type": "code",
   "execution_count": 66,
   "id": "0063660d",
   "metadata": {},
   "outputs": [
    {
     "data": {
      "text/plain": [
       "['tok2vec', 'tagger', 'parser', 'attribute_ruler', 'lemmatizer', 'ner']"
      ]
     },
     "execution_count": 66,
     "metadata": {},
     "output_type": "execute_result"
    }
   ],
   "source": [
    "nlp.pipe_names"
   ]
  },
  {
   "cell_type": "code",
   "execution_count": 67,
   "id": "80489c0e",
   "metadata": {},
   "outputs": [
    {
     "name": "stdout",
     "output_type": "stream",
     "text": [
      "eating  -->  eating\n",
      "eats  -->  eat\n",
      "eat  -->  eat\n",
      "ate  -->  eat\n",
      "adjustable  -->  adjustable\n",
      "rafting  -->  raft\n",
      "ability  -->  ability\n",
      "meeting  -->  meeting\n"
     ]
    }
   ],
   "source": [
    "for token in doc:\n",
    "    print(token , \" --> \", token.lemma_)"
   ]
  },
  {
   "cell_type": "markdown",
   "id": "cbcc9d4a",
   "metadata": {},
   "source": [
    "### CUSTOMIZING Lematization in SPACY"
   ]
  },
  {
   "cell_type": "code",
   "execution_count": 68,
   "id": "1881a0d6",
   "metadata": {},
   "outputs": [
    {
     "data": {
      "text/plain": [
       "Bro homie broda brah"
      ]
     },
     "execution_count": 68,
     "metadata": {},
     "output_type": "execute_result"
    }
   ],
   "source": [
    "slang = [\"Bro\",\"homie\",\"broda\",\"brah\"]\n",
    "text = \" \".join(slang)\n",
    "\n",
    "doc = nlp(text)\n",
    "doc"
   ]
  },
  {
   "cell_type": "code",
   "execution_count": 69,
   "id": "9dfc9b99",
   "metadata": {},
   "outputs": [
    {
     "name": "stdout",
     "output_type": "stream",
     "text": [
      "Bro  -->  Bro\n",
      "homie  -->  homie\n",
      "broda  -->  broda\n",
      "brah  -->  brah\n"
     ]
    }
   ],
   "source": [
    "for token in doc:\n",
    "    print(token, \" --> \", token.lemma_)"
   ]
  },
  {
   "cell_type": "code",
   "execution_count": 70,
   "id": "37fe87a7",
   "metadata": {},
   "outputs": [
    {
     "data": {
      "text/plain": [
       "['tok2vec', 'tagger', 'parser', 'attribute_ruler', 'lemmatizer', 'ner']"
      ]
     },
     "execution_count": 70,
     "metadata": {},
     "output_type": "execute_result"
    }
   ],
   "source": [
    "nlp.pipe_names"
   ]
  },
  {
   "cell_type": "code",
   "execution_count": 71,
   "id": "4a4f6208",
   "metadata": {},
   "outputs": [],
   "source": [
    "ar = nlp.get_pipe('attribute_ruler')\n",
    "\n",
    "ar.add([[{\"TEXT\":\"Bro\"}],[{\"TEXT\":\"brah\"}],[{\"TEXT\":\"homie\"}]],{\"LEMMA\":\"Brother\"})"
   ]
  },
  {
   "cell_type": "code",
   "execution_count": 72,
   "id": "2ffad81f",
   "metadata": {},
   "outputs": [
    {
     "name": "stdout",
     "output_type": "stream",
     "text": [
      "Bro  -->  Bro\n",
      "homie  -->  homie\n",
      "broda  -->  broda\n",
      "brah  -->  brah\n"
     ]
    }
   ],
   "source": [
    "for token in doc:\n",
    "    print(token, \" --> \", token.lemma_)"
   ]
  }
 ],
 "metadata": {
  "kernelspec": {
   "display_name": "nlp",
   "language": "python",
   "name": "nlp"
  },
  "language_info": {
   "codemirror_mode": {
    "name": "ipython",
    "version": 3
   },
   "file_extension": ".py",
   "mimetype": "text/x-python",
   "name": "python",
   "nbconvert_exporter": "python",
   "pygments_lexer": "ipython3",
   "version": "3.10.4"
  }
 },
 "nbformat": 4,
 "nbformat_minor": 5
}
