{
 "cells": [
  {
   "cell_type": "code",
   "execution_count": 47,
   "id": "23c71473",
   "metadata": {},
   "outputs": [],
   "source": [
    "import re"
   ]
  },
  {
   "cell_type": "code",
   "execution_count": 48,
   "id": "37f8d6eb",
   "metadata": {},
   "outputs": [],
   "source": [
    "chat1='codebasics: Hello, I am having an issue with my order # 412889912'"
   ]
  },
  {
   "cell_type": "code",
   "execution_count": 49,
   "id": "f367e73e",
   "metadata": {},
   "outputs": [],
   "source": [
    "regex = \"order[^\\d]*(\\d*)\" # gets the order number only"
   ]
  },
  {
   "cell_type": "code",
   "execution_count": 50,
   "id": "10ac1097",
   "metadata": {},
   "outputs": [],
   "source": [
    "matches = re.findall(regex, chat1)"
   ]
  },
  {
   "cell_type": "code",
   "execution_count": 51,
   "id": "decda208",
   "metadata": {},
   "outputs": [
    {
     "data": {
      "text/plain": [
       "['412889912']"
      ]
     },
     "execution_count": 51,
     "metadata": {},
     "output_type": "execute_result"
    }
   ],
   "source": [
    "matches"
   ]
  },
  {
   "cell_type": "markdown",
   "id": "2317fa9f",
   "metadata": {},
   "source": [
    "# Retrieve Email Id and Phone"
   ]
  },
  {
   "cell_type": "code",
   "execution_count": 60,
   "id": "eadb5201",
   "metadata": {},
   "outputs": [],
   "source": [
    "chat1 = 'codebasics: you ask lot of questions 😠  1235678912, abc@xyz.com'\n",
    "chat2 = 'codebasics: here it is: (123)-567-8912, abc@xyz.com'\n",
    "chat3 = 'codebasics: yes, phone: 1235678912 email: abc@xyz.com'"
   ]
  },
  {
   "cell_type": "code",
   "execution_count": 61,
   "id": "953aea8e",
   "metadata": {},
   "outputs": [],
   "source": [
    "phoneRegex = \"\\d{10}|\\(\\d{3}\\)-\\d{3}-\\d{4}\"\n",
    "emailRegex = \"[a-zA-Z0-9_]*@[a-zA-Z]*\\.com\""
   ]
  },
  {
   "cell_type": "code",
   "execution_count": 62,
   "id": "9149c4cb",
   "metadata": {},
   "outputs": [],
   "source": [
    "phoneMatches = []\n",
    "phoneMatches.append(re.findall(phoneRegex, chat1))\n",
    "phoneMatches.append(re.findall(phoneRegex, chat2))\n",
    "phoneMatches.append(re.findall(phoneRegex, chat3))"
   ]
  },
  {
   "cell_type": "code",
   "execution_count": 63,
   "id": "df185a0d",
   "metadata": {},
   "outputs": [],
   "source": [
    "emailMatches = []\n",
    "emailMatches.append(re.findall(emailRegex, chat1))\n",
    "emailMatches.append(re.findall(emailRegex, chat2))\n",
    "emailMatches.append(re.findall(emailRegex, chat3))"
   ]
  },
  {
   "cell_type": "code",
   "execution_count": 64,
   "id": "5c6f1d1c",
   "metadata": {},
   "outputs": [
    {
     "data": {
      "text/plain": [
       "[['1235678912'], ['(123)-567-8912'], ['1235678912']]"
      ]
     },
     "execution_count": 64,
     "metadata": {},
     "output_type": "execute_result"
    }
   ],
   "source": [
    "phoneMatches"
   ]
  },
  {
   "cell_type": "code",
   "execution_count": 65,
   "id": "5de3c13b",
   "metadata": {},
   "outputs": [
    {
     "data": {
      "text/plain": [
       "[['abc@xyz.com'], ['abc@xyz.com'], ['abc@xyz.com']]"
      ]
     },
     "execution_count": 65,
     "metadata": {},
     "output_type": "execute_result"
    }
   ],
   "source": [
    "emailMatches"
   ]
  },
  {
   "cell_type": "markdown",
   "id": "c7c96eda",
   "metadata": {},
   "source": [
    "# Information Extraction"
   ]
  },
  {
   "cell_type": "code",
   "execution_count": 71,
   "id": "f3bf029a",
   "metadata": {},
   "outputs": [],
   "source": [
    "text='''\n",
    "Born Elon Reeve Musk\n",
    "June 28, 1971 (age 50)\n",
    "Pretoria, Transvaal, South Africa\n",
    "Citizenship\t\n",
    "South Africa (1971–present)\n",
    "Canada (1971–present)\n",
    "United States (2002–present)\n",
    "Education\tUniversity of Pennsylvania (BS, BA)\n",
    "Title\t\n",
    "Founder, CEO and Chief Engineer of SpaceX\n",
    "CEO and product architect of Tesla, Inc.\n",
    "Founder of The Boring Company and X.com (now part of PayPal)\n",
    "Co-founder of Neuralink, OpenAI, and Zip2\n",
    "Spouse(s)\t\n",
    "Justine Wilson\n",
    "​\n",
    "​(m. 2000; div. 2008)​\n",
    "Talulah Riley\n",
    "​\n",
    "​(m. 2010; div. 2012)​\n",
    "​\n",
    "​(m. 2013; div. 2016)\n",
    "'''"
   ]
  },
  {
   "cell_type": "code",
   "execution_count": 72,
   "id": "0a287e77",
   "metadata": {},
   "outputs": [
    {
     "data": {
      "text/plain": [
       "['50']"
      ]
     },
     "execution_count": 72,
     "metadata": {},
     "output_type": "execute_result"
    }
   ],
   "source": [
    "ageReg = \"age (\\d+)\"\n",
    "re.findall(ageReg, text)"
   ]
  },
  {
   "cell_type": "code",
   "execution_count": 73,
   "id": "026de47a",
   "metadata": {},
   "outputs": [
    {
     "data": {
      "text/plain": [
       "[]"
      ]
     },
     "execution_count": 73,
     "metadata": {},
     "output_type": "execute_result"
    }
   ],
   "source": [
    "fullNameReg = \"Born (.*)\"\n",
    "re.findall(fullNameReg, text)"
   ]
  },
  {
   "cell_type": "code",
   "execution_count": null,
   "id": "dd950937",
   "metadata": {},
   "outputs": [],
   "source": []
  }
 ],
 "metadata": {
  "kernelspec": {
   "display_name": "nlp",
   "language": "python",
   "name": "nlp"
  },
  "language_info": {
   "codemirror_mode": {
    "name": "ipython",
    "version": 3
   },
   "file_extension": ".py",
   "mimetype": "text/x-python",
   "name": "python",
   "nbconvert_exporter": "python",
   "pygments_lexer": "ipython3",
   "version": "3.10.4"
  }
 },
 "nbformat": 4,
 "nbformat_minor": 5
}
