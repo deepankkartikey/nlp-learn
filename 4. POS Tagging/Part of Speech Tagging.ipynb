{
 "cells": [
  {
   "cell_type": "markdown",
   "id": "513b91df",
   "metadata": {},
   "source": [
    "## POS Tags"
   ]
  },
  {
   "cell_type": "code",
   "execution_count": 1,
   "id": "5ab7bf8e",
   "metadata": {},
   "outputs": [],
   "source": [
    "import spacy"
   ]
  },
  {
   "cell_type": "code",
   "execution_count": 2,
   "id": "d0d2c3fb",
   "metadata": {},
   "outputs": [],
   "source": [
    "nlp = spacy.load(\"en_core_web_sm\")"
   ]
  },
  {
   "cell_type": "markdown",
   "id": "f2129776",
   "metadata": {},
   "source": [
    "### Extracting all PARTS OF SPEECH from text"
   ]
  },
  {
   "cell_type": "code",
   "execution_count": 4,
   "id": "0553e500",
   "metadata": {},
   "outputs": [],
   "source": [
    "doc = nlp(\"Elon flew to mars yesterday. He carried biryani masala with him\")"
   ]
  },
  {
   "cell_type": "code",
   "execution_count": 5,
   "id": "fc374d59",
   "metadata": {},
   "outputs": [
    {
     "name": "stdout",
     "output_type": "stream",
     "text": [
      "Elon  --  PROPN  --  proper noun\n",
      "flew  --  VERB  --  verb\n",
      "to  --  ADP  --  adposition\n",
      "mars  --  NOUN  --  noun\n",
      "yesterday  --  NOUN  --  noun\n",
      ".  --  PUNCT  --  punctuation\n",
      "He  --  PRON  --  pronoun\n",
      "carried  --  VERB  --  verb\n",
      "biryani  --  NOUN  --  noun\n",
      "masala  --  NOUN  --  noun\n",
      "with  --  ADP  --  adposition\n",
      "him  --  PRON  --  pronoun\n"
     ]
    }
   ],
   "source": [
    "for token in doc:\n",
    "    print(token, \" -- \", token.pos_, \" -- \", spacy.explain(token.pos_))"
   ]
  },
  {
   "cell_type": "markdown",
   "id": "8dfe773f",
   "metadata": {},
   "source": [
    "### Extracting all TAGS from text"
   ]
  },
  {
   "cell_type": "code",
   "execution_count": 6,
   "id": "2f31fa97",
   "metadata": {},
   "outputs": [],
   "source": [
    "doc = nlp(\"Wow! Dr. Strange made 265 million $ on the very first day\")"
   ]
  },
  {
   "cell_type": "code",
   "execution_count": 8,
   "id": "91a56767",
   "metadata": {},
   "outputs": [
    {
     "name": "stdout",
     "output_type": "stream",
     "text": [
      "Wow  --  INTJ  --  interjection  --  UH  --  interjection\n",
      "!  --  PUNCT  --  punctuation  --  .  --  punctuation mark, sentence closer\n",
      "Dr.  --  PROPN  --  proper noun  --  NNP  --  noun, proper singular\n",
      "Strange  --  PROPN  --  proper noun  --  NNP  --  noun, proper singular\n",
      "made  --  VERB  --  verb  --  VBD  --  verb, past tense\n",
      "265  --  NUM  --  numeral  --  CD  --  cardinal number\n",
      "million  --  NUM  --  numeral  --  CD  --  cardinal number\n",
      "$  --  PUNCT  --  punctuation  --  -RRB-  --  right round bracket\n",
      "on  --  ADP  --  adposition  --  IN  --  conjunction, subordinating or preposition\n",
      "the  --  DET  --  determiner  --  DT  --  determiner\n",
      "very  --  ADV  --  adverb  --  RB  --  adverb\n",
      "first  --  ADJ  --  adjective  --  JJ  --  adjective (English), other noun-modifier (Chinese)\n",
      "day  --  NOUN  --  noun  --  NN  --  noun, singular or mass\n"
     ]
    }
   ],
   "source": [
    "for token in doc:\n",
    "    print(token, \" -- \", token.pos_, \" -- \", spacy.explain(token.pos_), \n",
    "          \" -- \", token.tag_, \" -- \", spacy.explain(token.tag_))"
   ]
  },
  {
   "cell_type": "markdown",
   "id": "013daa93",
   "metadata": {},
   "source": [
    "### figure out the past vs present tense for quit"
   ]
  },
  {
   "cell_type": "code",
   "execution_count": 10,
   "id": "875f8e63",
   "metadata": {},
   "outputs": [],
   "source": [
    "text1 = \"He quits the job\"\n",
    "text2 = \"He quit the job\""
   ]
  },
  {
   "cell_type": "code",
   "execution_count": 13,
   "id": "0dabfdbf",
   "metadata": {},
   "outputs": [
    {
     "data": {
      "text/plain": [
       "quits"
      ]
     },
     "execution_count": 13,
     "metadata": {},
     "output_type": "execute_result"
    }
   ],
   "source": [
    "doc = nlp(text1)\n",
    "\n",
    "doc[1]"
   ]
  },
  {
   "cell_type": "code",
   "execution_count": 14,
   "id": "19347f3e",
   "metadata": {},
   "outputs": [
    {
     "name": "stdout",
     "output_type": "stream",
     "text": [
      "quits  ||  VBZ  ||  verb, 3rd person singular present\n"
     ]
    }
   ],
   "source": [
    "print(doc[1], \" || \", doc[1].tag_, \" || \", spacy.explain(doc[1].tag_))"
   ]
  },
  {
   "cell_type": "code",
   "execution_count": 15,
   "id": "d16c6216",
   "metadata": {},
   "outputs": [
    {
     "data": {
      "text/plain": [
       "quit"
      ]
     },
     "execution_count": 15,
     "metadata": {},
     "output_type": "execute_result"
    }
   ],
   "source": [
    "doc = nlp(text2)\n",
    "\n",
    "doc[1]"
   ]
  },
  {
   "cell_type": "code",
   "execution_count": 16,
   "id": "f9d6e2a5",
   "metadata": {},
   "outputs": [
    {
     "name": "stdout",
     "output_type": "stream",
     "text": [
      "quit  ||  VBD  ||  verb, past tense\n"
     ]
    }
   ],
   "source": [
    "print(doc[1], \" || \", doc[1].tag_, \" || \", spacy.explain(doc[1].tag_))"
   ]
  },
  {
   "cell_type": "markdown",
   "id": "44d664a3",
   "metadata": {},
   "source": [
    "### Removing all SPACE, PUNCT and X token from text"
   ]
  },
  {
   "cell_type": "code",
   "execution_count": 17,
   "id": "dacd3765",
   "metadata": {},
   "outputs": [],
   "source": [
    "earnings_text=\"\"\"Microsoft Corp. today announced the following results for the quarter ended December 31, 2021, as compared to the corresponding period of last fiscal year:\n",
    "\n",
    "·         Revenue was $51.7 billion and increased 20%\n",
    "·         Operating income was $22.2 billion and increased 24%\n",
    "·         Net income was $18.8 billion and increased 21%\n",
    "·         Diluted earnings per share was $2.48 and increased 22%\n",
    "“Digital technology is the most malleable resource at the world’s disposal to overcome constraints and reimagine everyday work and life,” said Satya Nadella, chairman and chief executive officer of Microsoft. “As tech as a percentage of global GDP continues to increase, we are innovating and investing across diverse and growing markets, with a common underlying technology stack and an operating model that reinforces a common strategy, culture, and sense of purpose.”\n",
    "“Solid commercial execution, represented by strong bookings growth driven by long-term Azure commitments, increased Microsoft Cloud revenue to $22.1 billion, up 32% year over year” said Amy Hood, executive vice president and chief financial officer of Microsoft.\"\"\"\n"
   ]
  },
  {
   "cell_type": "code",
   "execution_count": 18,
   "id": "2d85f4fc",
   "metadata": {},
   "outputs": [],
   "source": [
    "doc = nlp(earnings_text)"
   ]
  },
  {
   "cell_type": "code",
   "execution_count": 25,
   "id": "ae5eb7c1",
   "metadata": {},
   "outputs": [],
   "source": [
    "filteredTokens = []\n",
    "for token in doc:\n",
    "    if token.pos_ not in [\"SPACE\", \"PUNCT\", \"X\"]:\n",
    "        # print(token, \" || \", token.pos_, \" || \", spacy.explain(token.pos_))\n",
    "        filteredTokens.append(token)"
   ]
  },
  {
   "cell_type": "code",
   "execution_count": 28,
   "id": "06806ce7",
   "metadata": {},
   "outputs": [
    {
     "data": {
      "text/plain": [
       "[Microsoft,\n",
       " Corp.,\n",
       " today,\n",
       " announced,\n",
       " the,\n",
       " following,\n",
       " results,\n",
       " for,\n",
       " the,\n",
       " quarter]"
      ]
     },
     "execution_count": 28,
     "metadata": {},
     "output_type": "execute_result"
    }
   ],
   "source": [
    "filteredTokens[:10]"
   ]
  },
  {
   "cell_type": "markdown",
   "id": "8f3a3692",
   "metadata": {},
   "source": [
    "### Count PARTS OF SPEECH in a given text"
   ]
  },
  {
   "cell_type": "code",
   "execution_count": 50,
   "id": "85a6c2b7",
   "metadata": {},
   "outputs": [
    {
     "data": {
      "text/plain": [
       "{96: 15,\n",
       " 92: 45,\n",
       " 100: 22,\n",
       " 90: 9,\n",
       " 85: 16,\n",
       " 93: 16,\n",
       " 97: 27,\n",
       " 98: 1,\n",
       " 84: 21,\n",
       " 103: 10,\n",
       " 87: 6,\n",
       " 99: 5,\n",
       " 89: 12,\n",
       " 86: 3,\n",
       " 94: 3,\n",
       " 95: 2}"
      ]
     },
     "execution_count": 50,
     "metadata": {},
     "output_type": "execute_result"
    }
   ],
   "source": [
    "count = doc.count_by(spacy.attrs.POS)\n",
    "count"
   ]
  },
  {
   "cell_type": "code",
   "execution_count": 51,
   "id": "5372ee9a",
   "metadata": {},
   "outputs": [
    {
     "data": {
      "text/plain": [
       "'proper noun'"
      ]
     },
     "execution_count": 51,
     "metadata": {},
     "output_type": "execute_result"
    }
   ],
   "source": [
    "spacy.explain(doc.vocab[96].text)"
   ]
  },
  {
   "cell_type": "code",
   "execution_count": 52,
   "id": "4efcb406",
   "metadata": {},
   "outputs": [
    {
     "name": "stdout",
     "output_type": "stream",
     "text": [
      "proper noun  :  15\n",
      "noun  :  45\n",
      "verb  :  22\n",
      "determiner  :  9\n",
      "adposition  :  16\n",
      "numeral  :  16\n",
      "punctuation  :  27\n",
      "subordinating conjunction  :  1\n",
      "adjective  :  21\n",
      "space  :  10\n",
      "auxiliary  :  6\n",
      "symbol  :  5\n",
      "coordinating conjunction  :  12\n",
      "adverb  :  3\n",
      "particle  :  3\n",
      "pronoun  :  2\n"
     ]
    }
   ],
   "source": [
    "for k,v in count.items():\n",
    "    print(spacy.explain(doc.vocab[k].text), \" : \", v)"
   ]
  }
 ],
 "metadata": {
  "kernelspec": {
   "display_name": "nlp",
   "language": "python",
   "name": "nlp"
  },
  "language_info": {
   "codemirror_mode": {
    "name": "ipython",
    "version": 3
   },
   "file_extension": ".py",
   "mimetype": "text/x-python",
   "name": "python",
   "nbconvert_exporter": "python",
   "pygments_lexer": "ipython3",
   "version": "3.10.4"
  }
 },
 "nbformat": 4,
 "nbformat_minor": 5
}
