{
 "cells": [
  {
   "cell_type": "code",
   "execution_count": 15,
   "id": "71ba0e42",
   "metadata": {},
   "outputs": [],
   "source": [
    "import spacy\n",
    "from spacy import displacy"
   ]
  },
  {
   "cell_type": "code",
   "execution_count": 16,
   "id": "fafddfa8",
   "metadata": {},
   "outputs": [
    {
     "data": {
      "text/plain": [
       "['tok2vec', 'tagger', 'parser', 'attribute_ruler', 'lemmatizer', 'ner']"
      ]
     },
     "execution_count": 16,
     "metadata": {},
     "output_type": "execute_result"
    }
   ],
   "source": [
    "nlp = spacy.load(\"en_core_web_sm\")\n",
    "nlp.pipe_names"
   ]
  },
  {
   "cell_type": "code",
   "execution_count": 17,
   "id": "7a72afd8",
   "metadata": {},
   "outputs": [],
   "source": [
    "doc = nlp(\"Tesla Inc is going to buy Twitter Inc for $45 billion.\")"
   ]
  },
  {
   "cell_type": "code",
   "execution_count": 18,
   "id": "3684de88",
   "metadata": {},
   "outputs": [
    {
     "name": "stdout",
     "output_type": "stream",
     "text": [
      "Tesla Inc  |  ORG  |  Companies, agencies, institutions, etc.\n",
      "Twitter Inc  |  ORG  |  Companies, agencies, institutions, etc.\n",
      "$45 billion  |  MONEY  |  Monetary values, including unit\n"
     ]
    }
   ],
   "source": [
    "for entity in doc.ents:\n",
    "    print(entity.text, \" | \", entity.label_, \" | \", spacy.explain(entity.label_))"
   ]
  },
  {
   "cell_type": "markdown",
   "id": "74d176af",
   "metadata": {},
   "source": [
    "## Beautifully show entities"
   ]
  },
  {
   "cell_type": "code",
   "execution_count": 23,
   "id": "4c2d15de",
   "metadata": {},
   "outputs": [
    {
     "data": {
      "text/html": [
       "<span class=\"tex2jax_ignore\"><div class=\"entities\" style=\"line-height: 2.5; direction: ltr\">\n",
       "<mark class=\"entity\" style=\"background: #7aecec; padding: 0.45em 0.6em; margin: 0 0.25em; line-height: 1; border-radius: 0.35em;\">\n",
       "    Tesla Inc\n",
       "    <span style=\"font-size: 0.8em; font-weight: bold; line-height: 1; border-radius: 0.35em; vertical-align: middle; margin-left: 0.5rem\">ORG</span>\n",
       "</mark>\n",
       " is going to buy \n",
       "<mark class=\"entity\" style=\"background: #7aecec; padding: 0.45em 0.6em; margin: 0 0.25em; line-height: 1; border-radius: 0.35em;\">\n",
       "    Twitter Inc\n",
       "    <span style=\"font-size: 0.8em; font-weight: bold; line-height: 1; border-radius: 0.35em; vertical-align: middle; margin-left: 0.5rem\">ORG</span>\n",
       "</mark>\n",
       " for \n",
       "<mark class=\"entity\" style=\"background: #e4e7d2; padding: 0.45em 0.6em; margin: 0 0.25em; line-height: 1; border-radius: 0.35em;\">\n",
       "    $45 billion\n",
       "    <span style=\"font-size: 0.8em; font-weight: bold; line-height: 1; border-radius: 0.35em; vertical-align: middle; margin-left: 0.5rem\">MONEY</span>\n",
       "</mark>\n",
       ".</div></span>"
      ],
      "text/plain": [
       "<IPython.core.display.HTML object>"
      ]
     },
     "metadata": {},
     "output_type": "display_data"
    }
   ],
   "source": [
    "\n",
    "displacy.render(doc, style=\"ent\")"
   ]
  },
  {
   "cell_type": "markdown",
   "id": "60f4ce8e",
   "metadata": {},
   "source": [
    "# Pre-defined entities in ner "
   ]
  },
  {
   "cell_type": "code",
   "execution_count": 22,
   "id": "bb6cc342",
   "metadata": {},
   "outputs": [
    {
     "data": {
      "text/plain": [
       "['CARDINAL',\n",
       " 'DATE',\n",
       " 'EVENT',\n",
       " 'FAC',\n",
       " 'GPE',\n",
       " 'LANGUAGE',\n",
       " 'LAW',\n",
       " 'LOC',\n",
       " 'MONEY',\n",
       " 'NORP',\n",
       " 'ORDINAL',\n",
       " 'ORG',\n",
       " 'PERCENT',\n",
       " 'PERSON',\n",
       " 'PRODUCT',\n",
       " 'QUANTITY',\n",
       " 'TIME',\n",
       " 'WORK_OF_ART']"
      ]
     },
     "execution_count": 22,
     "metadata": {},
     "output_type": "execute_result"
    }
   ],
   "source": [
    "\n",
    "nlp.pipe_labels['ner']"
   ]
  },
  {
   "cell_type": "code",
   "execution_count": 24,
   "id": "f797b03b",
   "metadata": {},
   "outputs": [],
   "source": [
    "doc = nlp(\"Michael Bloomberg founded Bloomberg in 1982.\")"
   ]
  },
  {
   "cell_type": "code",
   "execution_count": 25,
   "id": "49e14473",
   "metadata": {},
   "outputs": [
    {
     "name": "stdout",
     "output_type": "stream",
     "text": [
      "Michael Bloomberg  |  PERSON  |  People, including fictional\n",
      "Bloomberg  |  PERSON  |  People, including fictional\n",
      "1982  |  DATE  |  Absolute or relative dates or periods\n"
     ]
    }
   ],
   "source": [
    "for entity in doc.ents:\n",
    "    print(entity.text, \" | \", entity.label_, \" | \", spacy.explain(entity.label_))"
   ]
  },
  {
   "cell_type": "markdown",
   "id": "f9333724",
   "metadata": {},
   "source": [
    "## Setting Custom entity -  Tesla and Twitter are not recognized here"
   ]
  },
  {
   "cell_type": "code",
   "execution_count": 28,
   "id": "57ca3d1c",
   "metadata": {},
   "outputs": [
    {
     "name": "stdout",
     "output_type": "stream",
     "text": [
      "$45 billion  |  MONEY  |  Monetary values, including unit\n"
     ]
    }
   ],
   "source": [
    "\n",
    "doc = nlp(\"Tesla is going to buy Twitter for $45 billion.\")\n",
    "for entity in doc.ents:\n",
    "    print(entity.text, \" | \", entity.label_, \" | \", spacy.explain(entity.label_))"
   ]
  },
  {
   "cell_type": "code",
   "execution_count": 30,
   "id": "de3ac8ff",
   "metadata": {},
   "outputs": [
    {
     "data": {
      "text/plain": [
       "spacy.tokens.span.Span"
      ]
     },
     "execution_count": 30,
     "metadata": {},
     "output_type": "execute_result"
    }
   ],
   "source": [
    "type(doc[:1])"
   ]
  },
  {
   "cell_type": "code",
   "execution_count": 31,
   "id": "00b186ee",
   "metadata": {},
   "outputs": [
    {
     "data": {
      "text/plain": [
       "Tesla"
      ]
     },
     "execution_count": 31,
     "metadata": {},
     "output_type": "execute_result"
    }
   ],
   "source": [
    "doc[:1]"
   ]
  },
  {
   "cell_type": "code",
   "execution_count": 33,
   "id": "e75e4ce7",
   "metadata": {},
   "outputs": [
    {
     "data": {
      "text/plain": [
       "Twitter"
      ]
     },
     "execution_count": 33,
     "metadata": {},
     "output_type": "execute_result"
    }
   ],
   "source": [
    "doc[5:6]"
   ]
  },
  {
   "cell_type": "code",
   "execution_count": 37,
   "id": "d6c45d1b",
   "metadata": {},
   "outputs": [],
   "source": [
    "from spacy.tokens import Span\n",
    "\n",
    "s1 = Span(doc, 0, 1, label = \"ORG\")\n",
    "s2 = Span(doc, 5, 6, label = \"ORG\")\n",
    "\n",
    "doc.set_ents([s1, s2], default=\"unmodified\")"
   ]
  },
  {
   "cell_type": "markdown",
   "id": "d44d4bc1",
   "metadata": {},
   "source": [
    "## Custom entities detected"
   ]
  },
  {
   "cell_type": "code",
   "execution_count": 38,
   "id": "d74f6177",
   "metadata": {},
   "outputs": [
    {
     "name": "stdout",
     "output_type": "stream",
     "text": [
      "Tesla  |  ORG  |  Companies, agencies, institutions, etc.\n",
      "Twitter  |  ORG  |  Companies, agencies, institutions, etc.\n",
      "$45 billion  |  MONEY  |  Monetary values, including unit\n"
     ]
    }
   ],
   "source": [
    "for entity in doc.ents:\n",
    "    print(entity.text, \" | \", entity.label_, \" | \", spacy.explain(entity.label_))"
   ]
  },
  {
   "cell_type": "markdown",
   "id": "80ee81db",
   "metadata": {},
   "source": [
    "## Building own NER - \" EntityRuler \" class"
   ]
  },
  {
   "cell_type": "code",
   "execution_count": null,
   "id": "c7c203c2",
   "metadata": {},
   "outputs": [],
   "source": []
  }
 ],
 "metadata": {
  "kernelspec": {
   "display_name": "nlp",
   "language": "python",
   "name": "nlp"
  },
  "language_info": {
   "codemirror_mode": {
    "name": "ipython",
    "version": 3
   },
   "file_extension": ".py",
   "mimetype": "text/x-python",
   "name": "python",
   "nbconvert_exporter": "python",
   "pygments_lexer": "ipython3",
   "version": "3.10.4"
  }
 },
 "nbformat": 4,
 "nbformat_minor": 5
}
